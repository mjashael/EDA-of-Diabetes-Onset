{
 "cells": [
  {
   "cell_type": "markdown",
   "id": "6f135382",
   "metadata": {},
   "source": [
    "## Creating Series"
   ]
  },
  {
   "cell_type": "code",
   "execution_count": 1,
   "id": "fca502c8",
   "metadata": {},
   "outputs": [
    {
     "name": "stdout",
     "output_type": "stream",
     "text": [
      "Series([], dtype: float64)\n",
      "0    g\n",
      "1    e\n",
      "2    e\n",
      "3    k\n",
      "4    s\n",
      "dtype: object\n"
     ]
    },
    {
     "name": "stderr",
     "output_type": "stream",
     "text": [
      "C:\\Users\\pc\\AppData\\Local\\Temp\\ipykernel_15908\\2689989380.py:6: FutureWarning: The default dtype for empty Series will be 'object' instead of 'float64' in a future version. Specify a dtype explicitly to silence this warning.\n",
      "  ser = pd.Series()\n"
     ]
    }
   ],
   "source": [
    "import pandas as pd\n",
    "import numpy as np\n",
    "\n",
    "\n",
    "# Creating empty series\n",
    "ser = pd.Series()\n",
    "\n",
    "print(ser)\n",
    "\n",
    "# simple array\n",
    "data = np.array(['g', 'e', 'e', 'k', 's'])\n",
    "\n",
    "ser = pd.Series(data)\n",
    "print(ser)\n"
   ]
  },
  {
   "cell_type": "markdown",
   "id": "7885e949",
   "metadata": {},
   "source": [
    "## Creating Dataframe"
   ]
  },
  {
   "cell_type": "code",
   "execution_count": 2,
   "id": "25a88166",
   "metadata": {},
   "outputs": [
    {
     "name": "stdout",
     "output_type": "stream",
     "text": [
      "Empty DataFrame\n",
      "Columns: []\n",
      "Index: []\n"
     ]
    },
    {
     "data": {
      "text/html": [
       "<div>\n",
       "<style scoped>\n",
       "    .dataframe tbody tr th:only-of-type {\n",
       "        vertical-align: middle;\n",
       "    }\n",
       "\n",
       "    .dataframe tbody tr th {\n",
       "        vertical-align: top;\n",
       "    }\n",
       "\n",
       "    .dataframe thead th {\n",
       "        text-align: right;\n",
       "    }\n",
       "</style>\n",
       "<table border=\"1\" class=\"dataframe\">\n",
       "  <thead>\n",
       "    <tr style=\"text-align: right;\">\n",
       "      <th></th>\n",
       "      <th>0</th>\n",
       "    </tr>\n",
       "  </thead>\n",
       "  <tbody>\n",
       "    <tr>\n",
       "      <th>0</th>\n",
       "      <td>Geeks</td>\n",
       "    </tr>\n",
       "    <tr>\n",
       "      <th>1</th>\n",
       "      <td>For</td>\n",
       "    </tr>\n",
       "    <tr>\n",
       "      <th>2</th>\n",
       "      <td>Geeks</td>\n",
       "    </tr>\n",
       "    <tr>\n",
       "      <th>3</th>\n",
       "      <td>is</td>\n",
       "    </tr>\n",
       "    <tr>\n",
       "      <th>4</th>\n",
       "      <td>portal</td>\n",
       "    </tr>\n",
       "    <tr>\n",
       "      <th>5</th>\n",
       "      <td>for</td>\n",
       "    </tr>\n",
       "    <tr>\n",
       "      <th>6</th>\n",
       "      <td>Geeks</td>\n",
       "    </tr>\n",
       "  </tbody>\n",
       "</table>\n",
       "</div>"
      ],
      "text/plain": [
       "        0\n",
       "0   Geeks\n",
       "1     For\n",
       "2   Geeks\n",
       "3      is\n",
       "4  portal\n",
       "5     for\n",
       "6   Geeks"
      ]
     },
     "execution_count": 2,
     "metadata": {},
     "output_type": "execute_result"
    }
   ],
   "source": [
    "import pandas as pd\n",
    "\n",
    "# Calling DataFrame constructor\n",
    "df = pd.DataFrame()\n",
    "print(df)\n",
    "\n",
    "# list of strings\n",
    "lst = ['Geeks', 'For', 'Geeks', 'is',\n",
    "            'portal', 'for', 'Geeks']\n",
    "\n",
    "# Calling DataFrame constructor on list\n",
    "df = pd.DataFrame(lst)\n",
    "df"
   ]
  },
  {
   "cell_type": "markdown",
   "id": "c9af837c",
   "metadata": {},
   "source": [
    "## Creating Dataframe from CSV"
   ]
  },
  {
   "cell_type": "code",
   "execution_count": 7,
   "id": "8e485b27",
   "metadata": {},
   "outputs": [
    {
     "data": {
      "text/html": [
       "<div>\n",
       "<style scoped>\n",
       "    .dataframe tbody tr th:only-of-type {\n",
       "        vertical-align: middle;\n",
       "    }\n",
       "\n",
       "    .dataframe tbody tr th {\n",
       "        vertical-align: top;\n",
       "    }\n",
       "\n",
       "    .dataframe thead th {\n",
       "        text-align: right;\n",
       "    }\n",
       "</style>\n",
       "<table border=\"1\" class=\"dataframe\">\n",
       "  <thead>\n",
       "    <tr style=\"text-align: right;\">\n",
       "      <th></th>\n",
       "      <th>PatientID</th>\n",
       "      <th>Name</th>\n",
       "      <th>Age</th>\n",
       "      <th>Gender</th>\n",
       "      <th>Diagnosis</th>\n",
       "      <th>Treatment</th>\n",
       "      <th>LengthOfStay</th>\n",
       "      <th>Readmission</th>\n",
       "      <th>SatisfactionScore</th>\n",
       "    </tr>\n",
       "  </thead>\n",
       "  <tbody>\n",
       "    <tr>\n",
       "      <th>0</th>\n",
       "      <td>1</td>\n",
       "      <td>John</td>\n",
       "      <td>65</td>\n",
       "      <td>M</td>\n",
       "      <td>Diabetes</td>\n",
       "      <td>Insulin</td>\n",
       "      <td>3</td>\n",
       "      <td>No</td>\n",
       "      <td>4.5</td>\n",
       "    </tr>\n",
       "    <tr>\n",
       "      <th>1</th>\n",
       "      <td>2</td>\n",
       "      <td>Jane</td>\n",
       "      <td>70</td>\n",
       "      <td>F</td>\n",
       "      <td>Hypertension</td>\n",
       "      <td>Medication</td>\n",
       "      <td>2</td>\n",
       "      <td>No</td>\n",
       "      <td>4.0</td>\n",
       "    </tr>\n",
       "    <tr>\n",
       "      <th>2</th>\n",
       "      <td>3</td>\n",
       "      <td>Bob</td>\n",
       "      <td>55</td>\n",
       "      <td>M</td>\n",
       "      <td>Heart Disease</td>\n",
       "      <td>Surgery</td>\n",
       "      <td>5</td>\n",
       "      <td>Yes</td>\n",
       "      <td>3.5</td>\n",
       "    </tr>\n",
       "    <tr>\n",
       "      <th>3</th>\n",
       "      <td>4</td>\n",
       "      <td>Alice</td>\n",
       "      <td>60</td>\n",
       "      <td>F</td>\n",
       "      <td>Arthritis</td>\n",
       "      <td>Physiotherapy</td>\n",
       "      <td>1</td>\n",
       "      <td>No</td>\n",
       "      <td>4.5</td>\n",
       "    </tr>\n",
       "    <tr>\n",
       "      <th>4</th>\n",
       "      <td>5</td>\n",
       "      <td>Charlie</td>\n",
       "      <td>62</td>\n",
       "      <td>M</td>\n",
       "      <td>Diabetes</td>\n",
       "      <td>Insulin</td>\n",
       "      <td>3</td>\n",
       "      <td>No</td>\n",
       "      <td>4.0</td>\n",
       "    </tr>\n",
       "  </tbody>\n",
       "</table>\n",
       "</div>"
      ],
      "text/plain": [
       "   PatientID     Name  Age Gender      Diagnosis      Treatment  LengthOfStay  \\\n",
       "0          1     John   65      M       Diabetes        Insulin             3   \n",
       "1          2     Jane   70      F   Hypertension     Medication             2   \n",
       "2          3      Bob   55      M  Heart Disease        Surgery             5   \n",
       "3          4    Alice   60      F      Arthritis  Physiotherapy             1   \n",
       "4          5  Charlie   62      M       Diabetes        Insulin             3   \n",
       "\n",
       "  Readmission  SatisfactionScore  \n",
       "0          No                4.5  \n",
       "1          No                4.0  \n",
       "2         Yes                3.5  \n",
       "3          No                4.5  \n",
       "4          No                4.0  "
      ]
     },
     "execution_count": 7,
     "metadata": {},
     "output_type": "execute_result"
    }
   ],
   "source": [
    "import pandas as pd\n",
    "\n",
    "# Reading the CSV file\n",
    "df = pd.read_csv(r\"C:\\Users\\pc\\Desktop\\Jash files\\Project Files\\Database\\Datasets\\med-test.csv\")\n",
    "\n",
    "# Printing top 5 rows\n",
    "df.head()"
   ]
  },
  {
   "cell_type": "markdown",
   "id": "6a96dea6",
   "metadata": {},
   "source": [
    "## Filtering Dataframe"
   ]
  },
  {
   "cell_type": "code",
   "execution_count": 23,
   "id": "c1d29084",
   "metadata": {},
   "outputs": [
    {
     "data": {
      "text/html": [
       "<div>\n",
       "<style scoped>\n",
       "    .dataframe tbody tr th:only-of-type {\n",
       "        vertical-align: middle;\n",
       "    }\n",
       "\n",
       "    .dataframe tbody tr th {\n",
       "        vertical-align: top;\n",
       "    }\n",
       "\n",
       "    .dataframe thead th {\n",
       "        text-align: right;\n",
       "    }\n",
       "</style>\n",
       "<table border=\"1\" class=\"dataframe\">\n",
       "  <thead>\n",
       "    <tr style=\"text-align: right;\">\n",
       "      <th></th>\n",
       "      <th>Age</th>\n",
       "      <th>Diagnosis</th>\n",
       "      <th>Treatment</th>\n",
       "    </tr>\n",
       "  </thead>\n",
       "  <tbody>\n",
       "    <tr>\n",
       "      <th>0</th>\n",
       "      <td>65</td>\n",
       "      <td>Diabetes</td>\n",
       "      <td>Insulin</td>\n",
       "    </tr>\n",
       "    <tr>\n",
       "      <th>1</th>\n",
       "      <td>70</td>\n",
       "      <td>Hypertension</td>\n",
       "      <td>Medication</td>\n",
       "    </tr>\n",
       "    <tr>\n",
       "      <th>2</th>\n",
       "      <td>55</td>\n",
       "      <td>Heart Disease</td>\n",
       "      <td>Surgery</td>\n",
       "    </tr>\n",
       "    <tr>\n",
       "      <th>3</th>\n",
       "      <td>60</td>\n",
       "      <td>Arthritis</td>\n",
       "      <td>Physiotherapy</td>\n",
       "    </tr>\n",
       "    <tr>\n",
       "      <th>4</th>\n",
       "      <td>62</td>\n",
       "      <td>Diabetes</td>\n",
       "      <td>Insulin</td>\n",
       "    </tr>\n",
       "    <tr>\n",
       "      <th>5</th>\n",
       "      <td>58</td>\n",
       "      <td>Hypertension</td>\n",
       "      <td>Medication</td>\n",
       "    </tr>\n",
       "    <tr>\n",
       "      <th>6</th>\n",
       "      <td>63</td>\n",
       "      <td>Heart Disease</td>\n",
       "      <td>Surgery</td>\n",
       "    </tr>\n",
       "    <tr>\n",
       "      <th>7</th>\n",
       "      <td>67</td>\n",
       "      <td>Arthritis</td>\n",
       "      <td>Physiotherapy</td>\n",
       "    </tr>\n",
       "    <tr>\n",
       "      <th>8</th>\n",
       "      <td>64</td>\n",
       "      <td>Diabetes</td>\n",
       "      <td>Insulin</td>\n",
       "    </tr>\n",
       "    <tr>\n",
       "      <th>9</th>\n",
       "      <td>59</td>\n",
       "      <td>Hypertension</td>\n",
       "      <td>Medication</td>\n",
       "    </tr>\n",
       "    <tr>\n",
       "      <th>10</th>\n",
       "      <td>66</td>\n",
       "      <td>Heart Disease</td>\n",
       "      <td>Surgery</td>\n",
       "    </tr>\n",
       "    <tr>\n",
       "      <th>11</th>\n",
       "      <td>57</td>\n",
       "      <td>Arthritis</td>\n",
       "      <td>Physiotherapy</td>\n",
       "    </tr>\n",
       "    <tr>\n",
       "      <th>12</th>\n",
       "      <td>68</td>\n",
       "      <td>Diabetes</td>\n",
       "      <td>Insulin</td>\n",
       "    </tr>\n",
       "    <tr>\n",
       "      <th>13</th>\n",
       "      <td>56</td>\n",
       "      <td>Hypertension</td>\n",
       "      <td>Medication</td>\n",
       "    </tr>\n",
       "    <tr>\n",
       "      <th>14</th>\n",
       "      <td>69</td>\n",
       "      <td>Heart Disease</td>\n",
       "      <td>Surgery</td>\n",
       "    </tr>\n",
       "    <tr>\n",
       "      <th>15</th>\n",
       "      <td>54</td>\n",
       "      <td>Arthritis</td>\n",
       "      <td>Physiotherapy</td>\n",
       "    </tr>\n",
       "    <tr>\n",
       "      <th>16</th>\n",
       "      <td>71</td>\n",
       "      <td>Diabetes</td>\n",
       "      <td>Insulin</td>\n",
       "    </tr>\n",
       "    <tr>\n",
       "      <th>17</th>\n",
       "      <td>53</td>\n",
       "      <td>Hypertension</td>\n",
       "      <td>Medication</td>\n",
       "    </tr>\n",
       "    <tr>\n",
       "      <th>18</th>\n",
       "      <td>72</td>\n",
       "      <td>Heart Disease</td>\n",
       "      <td>Surgery</td>\n",
       "    </tr>\n",
       "    <tr>\n",
       "      <th>19</th>\n",
       "      <td>52</td>\n",
       "      <td>Arthritis</td>\n",
       "      <td>Physiotherapy</td>\n",
       "    </tr>\n",
       "    <tr>\n",
       "      <th>20</th>\n",
       "      <td>73</td>\n",
       "      <td>Diabetes</td>\n",
       "      <td>Insulin</td>\n",
       "    </tr>\n",
       "    <tr>\n",
       "      <th>21</th>\n",
       "      <td>51</td>\n",
       "      <td>Hypertension</td>\n",
       "      <td>Medication</td>\n",
       "    </tr>\n",
       "    <tr>\n",
       "      <th>22</th>\n",
       "      <td>74</td>\n",
       "      <td>Heart Disease</td>\n",
       "      <td>Surgery</td>\n",
       "    </tr>\n",
       "    <tr>\n",
       "      <th>23</th>\n",
       "      <td>50</td>\n",
       "      <td>Arthritis</td>\n",
       "      <td>Physiotherapy</td>\n",
       "    </tr>\n",
       "    <tr>\n",
       "      <th>24</th>\n",
       "      <td>75</td>\n",
       "      <td>Diabetes</td>\n",
       "      <td>Insulin</td>\n",
       "    </tr>\n",
       "    <tr>\n",
       "      <th>25</th>\n",
       "      <td>49</td>\n",
       "      <td>Hypertension</td>\n",
       "      <td>Medication</td>\n",
       "    </tr>\n",
       "    <tr>\n",
       "      <th>26</th>\n",
       "      <td>76</td>\n",
       "      <td>Heart Disease</td>\n",
       "      <td>Surgery</td>\n",
       "    </tr>\n",
       "    <tr>\n",
       "      <th>27</th>\n",
       "      <td>48</td>\n",
       "      <td>Arthritis</td>\n",
       "      <td>Physiotherapy</td>\n",
       "    </tr>\n",
       "    <tr>\n",
       "      <th>28</th>\n",
       "      <td>77</td>\n",
       "      <td>Diabetes</td>\n",
       "      <td>Insulin</td>\n",
       "    </tr>\n",
       "    <tr>\n",
       "      <th>29</th>\n",
       "      <td>47</td>\n",
       "      <td>Hypertension</td>\n",
       "      <td>Medication</td>\n",
       "    </tr>\n",
       "  </tbody>\n",
       "</table>\n",
       "</div>"
      ],
      "text/plain": [
       "    Age      Diagnosis      Treatment\n",
       "0    65       Diabetes        Insulin\n",
       "1    70   Hypertension     Medication\n",
       "2    55  Heart Disease        Surgery\n",
       "3    60      Arthritis  Physiotherapy\n",
       "4    62       Diabetes        Insulin\n",
       "5    58   Hypertension     Medication\n",
       "6    63  Heart Disease        Surgery\n",
       "7    67      Arthritis  Physiotherapy\n",
       "8    64       Diabetes        Insulin\n",
       "9    59   Hypertension     Medication\n",
       "10   66  Heart Disease        Surgery\n",
       "11   57      Arthritis  Physiotherapy\n",
       "12   68       Diabetes        Insulin\n",
       "13   56   Hypertension     Medication\n",
       "14   69  Heart Disease        Surgery\n",
       "15   54      Arthritis  Physiotherapy\n",
       "16   71       Diabetes        Insulin\n",
       "17   53   Hypertension     Medication\n",
       "18   72  Heart Disease        Surgery\n",
       "19   52      Arthritis  Physiotherapy\n",
       "20   73       Diabetes        Insulin\n",
       "21   51   Hypertension     Medication\n",
       "22   74  Heart Disease        Surgery\n",
       "23   50      Arthritis  Physiotherapy\n",
       "24   75       Diabetes        Insulin\n",
       "25   49   Hypertension     Medication\n",
       "26   76  Heart Disease        Surgery\n",
       "27   48      Arthritis  Physiotherapy\n",
       "28   77       Diabetes        Insulin\n",
       "29   47   Hypertension     Medication"
      ]
     },
     "execution_count": 23,
     "metadata": {},
     "output_type": "execute_result"
    }
   ],
   "source": [
    "import pandas as pd\n",
    "\n",
    "# Reading the CSV file\n",
    "df = pd.read_csv(r\"C:\\Users\\pc\\Desktop\\Jash files\\Project Files\\Database\\Datasets\\med-test.csv\")\n",
    "\n",
    "# Printing top 5 rows\n",
    "df.filter([\"Age\",\"Diagnosis\",\"Treatment\",\"Admission\" ])\n"
   ]
  },
  {
   "cell_type": "markdown",
   "id": "be5e06ca",
   "metadata": {},
   "source": [
    "## Viewing Statistical Details\n"
   ]
  },
  {
   "cell_type": "code",
   "execution_count": 19,
   "id": "2a45a853",
   "metadata": {},
   "outputs": [
    {
     "name": "stdout",
     "output_type": "stream",
     "text": [
      "       PatientID        Age  LengthOfStay  SatisfactionScore\n",
      "count  30.000000  30.000000     30.000000          30.000000\n",
      "mean   15.500000  62.033333      2.733333           4.000000\n",
      "std     8.803408   9.245626      1.460593           0.415227\n",
      "min     1.000000  47.000000      1.000000           3.500000\n",
      "25%     8.250000  54.250000      2.000000           3.500000\n",
      "50%    15.500000  62.500000      2.500000           4.000000\n",
      "75%    22.750000  69.750000      3.000000           4.500000\n",
      "max    30.000000  77.000000      5.000000           4.500000\n"
     ]
    }
   ],
   "source": [
    "# Reading the CSV file\n",
    "df = pd.read_csv(r\"C:\\Users\\pc\\Desktop\\Jash files\\Project Files\\Database\\Datasets\\med-test.csv\")\n",
    "\n",
    "# Stat details\n",
    "print(df.describe())\n",
    "\n"
   ]
  },
  {
   "cell_type": "markdown",
   "id": "c00118d9",
   "metadata": {},
   "source": [
    "## Grouping Data"
   ]
  },
  {
   "cell_type": "code",
   "execution_count": 31,
   "id": "84d2e0ea",
   "metadata": {},
   "outputs": [
    {
     "name": "stderr",
     "output_type": "stream",
     "text": [
      "C:\\Users\\pc\\AppData\\Local\\Temp\\ipykernel_15908\\1254606807.py:2: FutureWarning: The operation <function sum at 0x0000025D015E0400> failed on a column. If any error is raised, this will raise an exception in a future version of pandas. Drop these columns to avoid this warning.\n",
      "  group1.aggregate(np.sum)\n"
     ]
    },
    {
     "data": {
      "text/html": [
       "<div>\n",
       "<style scoped>\n",
       "    .dataframe tbody tr th:only-of-type {\n",
       "        vertical-align: middle;\n",
       "    }\n",
       "\n",
       "    .dataframe tbody tr th {\n",
       "        vertical-align: top;\n",
       "    }\n",
       "\n",
       "    .dataframe thead th {\n",
       "        text-align: right;\n",
       "    }\n",
       "</style>\n",
       "<table border=\"1\" class=\"dataframe\">\n",
       "  <thead>\n",
       "    <tr style=\"text-align: right;\">\n",
       "      <th></th>\n",
       "      <th>PatientID</th>\n",
       "      <th>Name</th>\n",
       "      <th>Age</th>\n",
       "      <th>Gender</th>\n",
       "      <th>Treatment</th>\n",
       "      <th>LengthOfStay</th>\n",
       "      <th>Readmission</th>\n",
       "      <th>SatisfactionScore</th>\n",
       "    </tr>\n",
       "    <tr>\n",
       "      <th>Diagnosis</th>\n",
       "      <th></th>\n",
       "      <th></th>\n",
       "      <th></th>\n",
       "      <th></th>\n",
       "      <th></th>\n",
       "      <th></th>\n",
       "      <th></th>\n",
       "      <th></th>\n",
       "    </tr>\n",
       "  </thead>\n",
       "  <tbody>\n",
       "    <tr>\n",
       "      <th>Arthritis</th>\n",
       "      <td>4</td>\n",
       "      <td>Alice</td>\n",
       "      <td>60</td>\n",
       "      <td>F</td>\n",
       "      <td>Physiotherapy</td>\n",
       "      <td>1</td>\n",
       "      <td>No</td>\n",
       "      <td>4.5</td>\n",
       "    </tr>\n",
       "    <tr>\n",
       "      <th>Diabetes</th>\n",
       "      <td>1</td>\n",
       "      <td>John</td>\n",
       "      <td>65</td>\n",
       "      <td>M</td>\n",
       "      <td>Insulin</td>\n",
       "      <td>3</td>\n",
       "      <td>No</td>\n",
       "      <td>4.5</td>\n",
       "    </tr>\n",
       "    <tr>\n",
       "      <th>Heart Disease</th>\n",
       "      <td>3</td>\n",
       "      <td>Bob</td>\n",
       "      <td>55</td>\n",
       "      <td>M</td>\n",
       "      <td>Surgery</td>\n",
       "      <td>5</td>\n",
       "      <td>Yes</td>\n",
       "      <td>3.5</td>\n",
       "    </tr>\n",
       "    <tr>\n",
       "      <th>Hypertension</th>\n",
       "      <td>2</td>\n",
       "      <td>Jane</td>\n",
       "      <td>70</td>\n",
       "      <td>F</td>\n",
       "      <td>Medication</td>\n",
       "      <td>2</td>\n",
       "      <td>No</td>\n",
       "      <td>4.0</td>\n",
       "    </tr>\n",
       "  </tbody>\n",
       "</table>\n",
       "</div>"
      ],
      "text/plain": [
       "               PatientID   Name  Age Gender      Treatment  LengthOfStay  \\\n",
       "Diagnosis                                                                  \n",
       "Arthritis              4  Alice   60      F  Physiotherapy             1   \n",
       "Diabetes               1   John   65      M        Insulin             3   \n",
       "Heart Disease          3    Bob   55      M        Surgery             5   \n",
       "Hypertension           2   Jane   70      F     Medication             2   \n",
       "\n",
       "              Readmission  SatisfactionScore  \n",
       "Diagnosis                                     \n",
       "Arthritis              No                4.5  \n",
       "Diabetes               No                4.5  \n",
       "Heart Disease         Yes                3.5  \n",
       "Hypertension           No                4.0  "
      ]
     },
     "execution_count": 31,
     "metadata": {},
     "output_type": "execute_result"
    }
   ],
   "source": [
    "group1 = df.groupby('Diagnosis')\n",
    "group1.aggregate(np.sum)\n",
    "group1.first()\n"
   ]
  },
  {
   "cell_type": "markdown",
   "id": "26a959f6",
   "metadata": {},
   "source": [
    "## Matplot Lib Tuts"
   ]
  },
  {
   "cell_type": "code",
   "execution_count": 1,
   "id": "017a9d69",
   "metadata": {},
   "outputs": [
    {
     "data": {
      "application/javascript": [
       "\n",
       "        if (window._pyforest_update_imports_cell) { window._pyforest_update_imports_cell('import matplotlib.pyplot as plt'); }\n",
       "    "
      ],
      "text/plain": [
       "<IPython.core.display.Javascript object>"
      ]
     },
     "metadata": {},
     "output_type": "display_data"
    },
    {
     "data": {
      "application/javascript": [
       "\n",
       "        if (window._pyforest_update_imports_cell) { window._pyforest_update_imports_cell('import matplotlib.pyplot as plt'); }\n",
       "    "
      ],
      "text/plain": [
       "<IPython.core.display.Javascript object>"
      ]
     },
     "metadata": {},
     "output_type": "display_data"
    },
    {
     "data": {
      "application/javascript": [
       "\n",
       "        if (window._pyforest_update_imports_cell) { window._pyforest_update_imports_cell('import matplotlib.pyplot as plt'); }\n",
       "    "
      ],
      "text/plain": [
       "<IPython.core.display.Javascript object>"
      ]
     },
     "metadata": {},
     "output_type": "display_data"
    },
    {
     "data": {
      "image/png": "[encoded data removed]",
      "text/plain": [
       "<Figure size 640x480 with 1 Axes>"
      ]
     },
     "metadata": {},
     "output_type": "display_data"
    }
   ],
   "source": [
    "plt.plot([1, 2, 3, 4], [1, 4, 9, 16])\n",
    "plt.axis([0, 6, 0, 20])\n",
    "plt.show()\n"
   ]
  },
  {
   "cell_type": "markdown",
   "id": "9dbc5cd8",
   "metadata": {},
   "source": [
    "## Bar Plot Using df"
   ]
  },
  {
   "cell_type": "code",
   "execution_count": 3,
   "id": "b1b11599",
   "metadata": {},
   "outputs": [
    {
     "data": {
      "application/javascript": [
       "\n",
       "        if (window._pyforest_update_imports_cell) { window._pyforest_update_imports_cell('import matplotlib.pyplot as plt\\nimport pandas as pd'); }\n",
       "    "
      ],
      "text/plain": [
       "<IPython.core.display.Javascript object>"
      ]
     },
     "metadata": {},
     "output_type": "display_data"
    },
    {
     "data": {
      "application/javascript": [
       "\n",
       "        if (window._pyforest_update_imports_cell) { window._pyforest_update_imports_cell('import matplotlib.pyplot as plt\\nimport pandas as pd'); }\n",
       "    "
      ],
      "text/plain": [
       "<IPython.core.display.Javascript object>"
      ]
     },
     "metadata": {},
     "output_type": "display_data"
    },
    {
     "data": {
      "application/javascript": [
       "\n",
       "        if (window._pyforest_update_imports_cell) { window._pyforest_update_imports_cell('import matplotlib.pyplot as plt\\nimport pandas as pd'); }\n",
       "    "
      ],
      "text/plain": [
       "<IPython.core.display.Javascript object>"
      ]
     },
     "metadata": {},
     "output_type": "display_data"
    },
    {
     "data": {
      "application/javascript": [
       "\n",
       "        if (window._pyforest_update_imports_cell) { window._pyforest_update_imports_cell('import matplotlib.pyplot as plt\\nimport pandas as pd'); }\n",
       "    "
      ],
      "text/plain": [
       "<IPython.core.display.Javascript object>"
      ]
     },
     "metadata": {},
     "output_type": "display_data"
    },
    {
     "data": {
      "application/javascript": [
       "\n",
       "        if (window._pyforest_update_imports_cell) { window._pyforest_update_imports_cell('import matplotlib.pyplot as plt\\nimport pandas as pd'); }\n",
       "    "
      ],
      "text/plain": [
       "<IPython.core.display.Javascript object>"
      ]
     },
     "metadata": {},
     "output_type": "display_data"
    },
    {
     "data": {
      "image/png": "[encoded data removed]",
      "text/plain": [
       "<Figure size 640x480 with 1 Axes>"
      ]
     },
     "metadata": {},
     "output_type": "display_data"
    }
   ],
   "source": [
    "df = pd.read_csv(r\"C:\\Users\\pc\\Desktop\\Jash files\\Project Files\\Database\\Datasets\\med-test.csv\")\n",
    "\n",
    "plt.bar(df['Gender'], df['SatisfactionScore'])\n",
    "\n",
    "# Title to the plot\n",
    "plt.title(\"Med Dataset\")\n",
    "\n",
    "# Adding the legends\n",
    "plt.legend([\"bar\"])\n",
    "plt.show()"
   ]
  },
  {
   "cell_type": "code",
   "execution_count": 5,
   "id": "a7ade7ed",
   "metadata": {},
   "outputs": [
    {
     "data": {
      "application/javascript": [
       "\n",
       "        if (window._pyforest_update_imports_cell) { window._pyforest_update_imports_cell('import matplotlib.pyplot as plt\\nimport pandas as pd'); }\n",
       "    "
      ],
      "text/plain": [
       "<IPython.core.display.Javascript object>"
      ]
     },
     "metadata": {},
     "output_type": "display_data"
    },
    {
     "data": {
      "application/javascript": [
       "\n",
       "        if (window._pyforest_update_imports_cell) { window._pyforest_update_imports_cell('import matplotlib.pyplot as plt\\nimport pandas as pd'); }\n",
       "    "
      ],
      "text/plain": [
       "<IPython.core.display.Javascript object>"
      ]
     },
     "metadata": {},
     "output_type": "display_data"
    },
    {
     "data": {
      "application/javascript": [
       "\n",
       "        if (window._pyforest_update_imports_cell) { window._pyforest_update_imports_cell('import matplotlib.pyplot as plt\\nimport pandas as pd'); }\n",
       "    "
      ],
      "text/plain": [
       "<IPython.core.display.Javascript object>"
      ]
     },
     "metadata": {},
     "output_type": "display_data"
    },
    {
     "data": {
      "application/javascript": [
       "\n",
       "        if (window._pyforest_update_imports_cell) { window._pyforest_update_imports_cell('import matplotlib.pyplot as plt\\nimport pandas as pd'); }\n",
       "    "
      ],
      "text/plain": [
       "<IPython.core.display.Javascript object>"
      ]
     },
     "metadata": {},
     "output_type": "display_data"
    },
    {
     "data": {
      "application/javascript": [
       "\n",
       "        if (window._pyforest_update_imports_cell) { window._pyforest_update_imports_cell('import matplotlib.pyplot as plt\\nimport pandas as pd'); }\n",
       "    "
      ],
      "text/plain": [
       "<IPython.core.display.Javascript object>"
      ]
     },
     "metadata": {},
     "output_type": "display_data"
    },
    {
     "data": {
      "image/png": "[encoded data removed]",
      "text/plain": [
       "<Figure size 640x480 with 1 Axes>"
      ]
     },
     "metadata": {},
     "output_type": "display_data"
    }
   ],
   "source": [
    "df = pd.read_csv(r\"C:\\Users\\pc\\Desktop\\Jash files\\Project Files\\Database\\Datasets\\med-test.csv\")\n",
    "\n",
    "plt.hist(df['SatisfactionScore'])\n",
    "\n",
    "# Title to the plot\n",
    "plt.title(\"Med Dataset\")\n",
    "\n",
    "# Adding the legends\n",
    "plt.legend([\"bar\"])\n",
    "plt.show()"
   ]
  },
  {
   "cell_type": "code",
   "execution_count": 11,
   "id": "4be0e410",
   "metadata": {},
   "outputs": [
    {
     "data": {
      "application/javascript": [
       "\n",
       "        if (window._pyforest_update_imports_cell) { window._pyforest_update_imports_cell('import matplotlib.pyplot as plt\\nimport pandas as pd'); }\n",
       "    "
      ],
      "text/plain": [
       "<IPython.core.display.Javascript object>"
      ]
     },
     "metadata": {},
     "output_type": "display_data"
    },
    {
     "data": {
      "application/javascript": [
       "\n",
       "        if (window._pyforest_update_imports_cell) { window._pyforest_update_imports_cell('import matplotlib.pyplot as plt\\nimport pandas as pd'); }\n",
       "    "
      ],
      "text/plain": [
       "<IPython.core.display.Javascript object>"
      ]
     },
     "metadata": {},
     "output_type": "display_data"
    },
    {
     "data": {
      "application/javascript": [
       "\n",
       "        if (window._pyforest_update_imports_cell) { window._pyforest_update_imports_cell('import matplotlib.pyplot as plt\\nimport pandas as pd'); }\n",
       "    "
      ],
      "text/plain": [
       "<IPython.core.display.Javascript object>"
      ]
     },
     "metadata": {},
     "output_type": "display_data"
    },
    {
     "data": {
      "application/javascript": [
       "\n",
       "        if (window._pyforest_update_imports_cell) { window._pyforest_update_imports_cell('import matplotlib.pyplot as plt\\nimport pandas as pd'); }\n",
       "    "
      ],
      "text/plain": [
       "<IPython.core.display.Javascript object>"
      ]
     },
     "metadata": {},
     "output_type": "display_data"
    },
    {
     "data": {
      "application/javascript": [
       "\n",
       "        if (window._pyforest_update_imports_cell) { window._pyforest_update_imports_cell('import matplotlib.pyplot as plt\\nimport pandas as pd'); }\n",
       "    "
      ],
      "text/plain": [
       "<IPython.core.display.Javascript object>"
      ]
     },
     "metadata": {},
     "output_type": "display_data"
    },
    {
     "data": {
      "image/png": "[encoded data removed]",
      "text/plain": [
       "<Figure size 640x480 with 1 Axes>"
      ]
     },
     "metadata": {},
     "output_type": "display_data"
    }
   ],
   "source": [
    "df = pd.read_csv(r\"C:\\Users\\pc\\Desktop\\Jash files\\Project Files\\Database\\Datasets\\med-test.csv\")\n",
    "\n",
    "plt.boxplot(df['SatisfactionScore'])\n",
    "# Title to the plot\n",
    "plt.title(\"Med Dataset\")\n",
    "\n",
    "# Adding the legends\n",
    "plt.legend([\"sepalwidthcm\"])\n",
    "plt.show()"
   ]
  },
  {
   "cell_type": "code",
   "execution_count": 12,
   "id": "09e06784",
   "metadata": {},
   "outputs": [
    {
     "data": {
      "application/javascript": [
       "\n",
       "        if (window._pyforest_update_imports_cell) { window._pyforest_update_imports_cell('import matplotlib.pyplot as plt\\nimport pandas as pd'); }\n",
       "    "
      ],
      "text/plain": [
       "<IPython.core.display.Javascript object>"
      ]
     },
     "metadata": {},
     "output_type": "display_data"
    },
    {
     "data": {
      "application/javascript": [
       "\n",
       "        if (window._pyforest_update_imports_cell) { window._pyforest_update_imports_cell('import matplotlib.pyplot as plt\\nimport pandas as pd'); }\n",
       "    "
      ],
      "text/plain": [
       "<IPython.core.display.Javascript object>"
      ]
     },
     "metadata": {},
     "output_type": "display_data"
    },
    {
     "name": "stderr",
     "output_type": "stream",
     "text": [
      "C:\\Users\\pc\\AppData\\Local\\Temp\\ipykernel_8076\\1429561061.py:3: FutureWarning: The default value of numeric_only in DataFrame.corr is deprecated. In a future version, it will default to False. Select only valid columns or specify the value of numeric_only to silence this warning.\n",
      "  plt.imshow(df.corr() , cmap = 'autumn' , interpolation = 'nearest' )\n"
     ]
    },
    {
     "data": {
      "application/javascript": [
       "\n",
       "        if (window._pyforest_update_imports_cell) { window._pyforest_update_imports_cell('import matplotlib.pyplot as plt\\nimport pandas as pd'); }\n",
       "    "
      ],
      "text/plain": [
       "<IPython.core.display.Javascript object>"
      ]
     },
     "metadata": {},
     "output_type": "display_data"
    },
    {
     "data": {
      "application/javascript": [
       "\n",
       "        if (window._pyforest_update_imports_cell) { window._pyforest_update_imports_cell('import matplotlib.pyplot as plt\\nimport pandas as pd'); }\n",
       "    "
      ],
      "text/plain": [
       "<IPython.core.display.Javascript object>"
      ]
     },
     "metadata": {},
     "output_type": "display_data"
    },
    {
     "data": {
      "image/png": "[encoded data removed]",
      "text/plain": [
       "<Figure size 640x480 with 1 Axes>"
      ]
     },
     "metadata": {},
     "output_type": "display_data"
    }
   ],
   "source": [
    "df = pd.read_csv(r\"C:\\Users\\pc\\Desktop\\Jash files\\Project Files\\Database\\Datasets\\med-test.csv\")\n",
    "\n",
    "plt.imshow(df.corr() , cmap = 'autumn' , interpolation = 'nearest' )\n",
    "  \n",
    "plt.title(\"Heat Map\")\n",
    "plt.show()"
   ]
  },
  {
   "cell_type": "code",
   "execution_count": null,
   "id": "e9ad9d7b",
   "metadata": {},
   "outputs": [],
   "source": []
  }
 ],
 "metadata": {
  "kernelspec": {
   "display_name": "Python 3 (ipykernel)",
   "language": "python",
   "name": "python3"
  },
  "language_info": {
   "codemirror_mode": {
    "name": "ipython",
    "version": 3
   },
   "file_extension": ".py",
   "mimetype": "text/x-python",
   "name": "python",
   "nbconvert_exporter": "python",
   "pygments_lexer": "ipython3",
   "version": "3.11.5"
  }
 },
 "nbformat": 4,
 "nbformat_minor": 5
}
